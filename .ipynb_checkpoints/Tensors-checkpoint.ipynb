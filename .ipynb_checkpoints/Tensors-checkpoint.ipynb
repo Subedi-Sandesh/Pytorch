{
 "cells": [
  {
   "cell_type": "code",
   "execution_count": 1,
   "id": "5da28279",
   "metadata": {},
   "outputs": [
    {
     "name": "stdout",
     "output_type": "stream",
     "text": [
      "2.7.1+cu126\n"
     ]
    }
   ],
   "source": [
    "import torch\n",
    "print(torch.__version__)"
   ]
  },
  {
   "cell_type": "code",
   "execution_count": 2,
   "id": "e8fc9ce9",
   "metadata": {},
   "outputs": [
    {
     "name": "stdout",
     "output_type": "stream",
     "text": [
      "GPU not available. Using CPU\n"
     ]
    }
   ],
   "source": [
    "if torch.cuda.is_available():\n",
    "  print(\"GPU is available!\")\n",
    "  print(f\"Using GPU: {torch.cuda.get_device_name(0)} \")\n",
    "else:\n",
    "  print(\"GPU not available. Using CPU\")"
   ]
  },
  {
   "cell_type": "markdown",
   "id": "9662fcc1",
   "metadata": {},
   "source": [
    "## Creating Tensors"
   ]
  },
  {
   "cell_type": "code",
   "execution_count": 3,
   "id": "deaadda3",
   "metadata": {},
   "outputs": [
    {
     "name": "stdout",
     "output_type": "stream",
     "text": [
      "tensor([[3.8493e-34, 0.0000e+00, 0.0000e+00],\n",
      "        [0.0000e+00, 0.0000e+00, 0.0000e+00]])\n"
     ]
    },
    {
     "data": {
      "text/plain": [
       "torch.Tensor"
      ]
     },
     "execution_count": 3,
     "metadata": {},
     "output_type": "execute_result"
    }
   ],
   "source": [
    "#1 using empty\n",
    "\n",
    "a = torch.empty(2, 3)\n",
    "print(a)\n",
    "type(a)"
   ]
  },
  {
   "cell_type": "code",
   "execution_count": 4,
   "id": "a59c84c7",
   "metadata": {},
   "outputs": [
    {
     "data": {
      "text/plain": [
       "tensor([[0., 0., 0.],\n",
       "        [0., 0., 0.]])"
      ]
     },
     "execution_count": 4,
     "metadata": {},
     "output_type": "execute_result"
    }
   ],
   "source": [
    "#2 using zeros\n",
    "\n",
    "torch.zeros(2, 3)"
   ]
  },
  {
   "cell_type": "code",
   "execution_count": 5,
   "id": "bb8ed31a",
   "metadata": {},
   "outputs": [
    {
     "data": {
      "text/plain": [
       "tensor([[1., 1., 1., 1.],\n",
       "        [1., 1., 1., 1.],\n",
       "        [1., 1., 1., 1.]])"
      ]
     },
     "execution_count": 5,
     "metadata": {},
     "output_type": "execute_result"
    }
   ],
   "source": [
    "#3 using ones\n",
    "\n",
    "torch.ones(3, 4)"
   ]
  },
  {
   "cell_type": "code",
   "execution_count": 6,
   "id": "6443657d",
   "metadata": {},
   "outputs": [
    {
     "data": {
      "text/plain": [
       "tensor([[0.7691, 0.7707, 0.8864],\n",
       "        [0.6349, 0.3891, 0.6496],\n",
       "        [0.4368, 0.9939, 0.6269]])"
      ]
     },
     "execution_count": 6,
     "metadata": {},
     "output_type": "execute_result"
    }
   ],
   "source": [
    "#4 using rand\n",
    "\n",
    "torch.rand(3,3)"
   ]
  },
  {
   "cell_type": "code",
   "execution_count": 7,
   "id": "f494e8ed",
   "metadata": {},
   "outputs": [
    {
     "data": {
      "text/plain": [
       "tensor([[0.1117, 0.8158, 0.2626],\n",
       "        [0.4839, 0.6765, 0.7539]])"
      ]
     },
     "execution_count": 7,
     "metadata": {},
     "output_type": "execute_result"
    }
   ],
   "source": [
    "#5 manually for reproducibility\n",
    "\n",
    "torch.manual_seed(100)\n",
    "torch.rand(2,3)"
   ]
  },
  {
   "cell_type": "code",
   "execution_count": 8,
   "id": "cdebfacd",
   "metadata": {},
   "outputs": [
    {
     "data": {
      "text/plain": [
       "tensor([[1, 2, 3],\n",
       "        [4, 5, 6]])"
      ]
     },
     "execution_count": 8,
     "metadata": {},
     "output_type": "execute_result"
    }
   ],
   "source": [
    "x = torch.tensor([[1,2,3], [4,5,6]])\n",
    "x"
   ]
  },
  {
   "cell_type": "markdown",
   "id": "e2afe10b",
   "metadata": {},
   "source": [
    "## Tensor shape"
   ]
  },
  {
   "cell_type": "code",
   "execution_count": 9,
   "id": "c988d9c3",
   "metadata": {},
   "outputs": [
    {
     "data": {
      "text/plain": [
       "torch.Size([2, 3])"
      ]
     },
     "execution_count": 9,
     "metadata": {},
     "output_type": "execute_result"
    }
   ],
   "source": [
    "x.shape"
   ]
  },
  {
   "cell_type": "code",
   "execution_count": 10,
   "id": "8c8b17ff",
   "metadata": {},
   "outputs": [
    {
     "data": {
      "text/plain": [
       "tensor([[          127344309,                   0,            36967960],\n",
       "        [          536870912, 4604268622255226880, 4604965845771223040]])"
      ]
     },
     "execution_count": 10,
     "metadata": {},
     "output_type": "execute_result"
    }
   ],
   "source": [
    "torch.empty_like(x) #dimension define"
   ]
  },
  {
   "cell_type": "code",
   "execution_count": 11,
   "id": "bd5616b4",
   "metadata": {},
   "outputs": [
    {
     "data": {
      "text/plain": [
       "tensor([[0, 0, 0],\n",
       "        [0, 0, 0]])"
      ]
     },
     "execution_count": 11,
     "metadata": {},
     "output_type": "execute_result"
    }
   ],
   "source": [
    "torch.zeros_like(x)"
   ]
  },
  {
   "cell_type": "code",
   "execution_count": 12,
   "id": "24d5dbac",
   "metadata": {},
   "outputs": [
    {
     "data": {
      "text/plain": [
       "tensor([[1, 1, 1],\n",
       "        [1, 1, 1]])"
      ]
     },
     "execution_count": 12,
     "metadata": {},
     "output_type": "execute_result"
    }
   ],
   "source": [
    "torch.ones_like(x)"
   ]
  },
  {
   "cell_type": "code",
   "execution_count": 13,
   "id": "29399e14",
   "metadata": {},
   "outputs": [
    {
     "data": {
      "text/plain": [
       "tensor([[0.2627, 0.0428, 0.2080],\n",
       "        [0.1180, 0.1217, 0.7356]])"
      ]
     },
     "execution_count": 13,
     "metadata": {},
     "output_type": "execute_result"
    }
   ],
   "source": [
    "torch.rand_like(x, dtype = torch.float32)"
   ]
  },
  {
   "cell_type": "markdown",
   "id": "7bd6f2ae",
   "metadata": {},
   "source": [
    "## Tensor Data Types"
   ]
  },
  {
   "cell_type": "code",
   "execution_count": 14,
   "id": "bb848268",
   "metadata": {},
   "outputs": [
    {
     "data": {
      "text/plain": [
       "torch.int64"
      ]
     },
     "execution_count": 14,
     "metadata": {},
     "output_type": "execute_result"
    }
   ],
   "source": [
    "x.dtype"
   ]
  },
  {
   "cell_type": "code",
   "execution_count": 15,
   "id": "40a25b04",
   "metadata": {},
   "outputs": [
    {
     "data": {
      "text/plain": [
       "tensor([1, 2, 3])"
      ]
     },
     "execution_count": 15,
     "metadata": {},
     "output_type": "execute_result"
    }
   ],
   "source": [
    "#assign data types while creating tensors\n",
    "torch.tensor([1.0, 2.0, 3.0], dtype = torch.int64)"
   ]
  },
  {
   "cell_type": "code",
   "execution_count": 16,
   "id": "ba276274",
   "metadata": {},
   "outputs": [
    {
     "data": {
      "text/plain": [
       "tensor([1., 2., 3.], dtype=torch.float64)"
      ]
     },
     "execution_count": 16,
     "metadata": {},
     "output_type": "execute_result"
    }
   ],
   "source": [
    "torch.tensor([1,2,3], dtype = torch.float64)"
   ]
  },
  {
   "cell_type": "code",
   "execution_count": 17,
   "id": "965151f9",
   "metadata": {},
   "outputs": [
    {
     "data": {
      "text/plain": [
       "tensor([[1., 2., 3.],\n",
       "        [4., 5., 6.]])"
      ]
     },
     "execution_count": 17,
     "metadata": {},
     "output_type": "execute_result"
    }
   ],
   "source": [
    "x.to(torch.float32) #conversion"
   ]
  },
  {
   "cell_type": "markdown",
   "id": "67675c0a",
   "metadata": {},
   "source": [
    "## Mathematical Operations"
   ]
  },
  {
   "cell_type": "code",
   "execution_count": 18,
   "id": "3b0159cd",
   "metadata": {},
   "outputs": [],
   "source": [
    "a  = torch.tensor([1, -2, 3, -4])\n",
    "b = torch.tensor([1.2, 1.8, 2.6])"
   ]
  },
  {
   "cell_type": "code",
   "execution_count": 19,
   "id": "0e50c742",
   "metadata": {},
   "outputs": [
    {
     "data": {
      "text/plain": [
       "tensor([1, 2, 3, 4])"
      ]
     },
     "execution_count": 19,
     "metadata": {},
     "output_type": "execute_result"
    }
   ],
   "source": [
    "#absoulute value\n",
    "torch.abs(a)"
   ]
  },
  {
   "cell_type": "code",
   "execution_count": 20,
   "id": "aa487a22",
   "metadata": {},
   "outputs": [
    {
     "data": {
      "text/plain": [
       "tensor([-1,  2, -3,  4])"
      ]
     },
     "execution_count": 20,
     "metadata": {},
     "output_type": "execute_result"
    }
   ],
   "source": [
    "#negative\n",
    "torch.neg(a)"
   ]
  },
  {
   "cell_type": "code",
   "execution_count": 21,
   "id": "6004b49f",
   "metadata": {},
   "outputs": [
    {
     "data": {
      "text/plain": [
       "tensor([1., 2., 3.])"
      ]
     },
     "execution_count": 21,
     "metadata": {},
     "output_type": "execute_result"
    }
   ],
   "source": [
    "#round off (fix)\n",
    "torch.round(b)"
   ]
  },
  {
   "cell_type": "code",
   "execution_count": 22,
   "id": "200e3924",
   "metadata": {},
   "outputs": [
    {
     "data": {
      "text/plain": [
       "tensor([1., 1., 2.])"
      ]
     },
     "execution_count": 22,
     "metadata": {},
     "output_type": "execute_result"
    }
   ],
   "source": [
    "#ignoring decimal points\n",
    "torch.floor(b)"
   ]
  },
  {
   "cell_type": "code",
   "execution_count": 23,
   "id": "23e01ed0",
   "metadata": {},
   "outputs": [
    {
     "data": {
      "text/plain": [
       "tensor([2.0000, 2.0000, 2.6000])"
      ]
     },
     "execution_count": 23,
     "metadata": {},
     "output_type": "execute_result"
    }
   ],
   "source": [
    "torch.clamp(b, min =2, max = 3)"
   ]
  },
  {
   "cell_type": "markdown",
   "id": "2cfc99df",
   "metadata": {},
   "source": [
    "### Reduction Operation"
   ]
  },
  {
   "cell_type": "code",
   "execution_count": 24,
   "id": "6b7ba9d0",
   "metadata": {},
   "outputs": [
    {
     "data": {
      "text/plain": [
       "tensor([[8., 8., 4.],\n",
       "        [4., 1., 0.]])"
      ]
     },
     "execution_count": 24,
     "metadata": {},
     "output_type": "execute_result"
    }
   ],
   "source": [
    "c = torch.randint(size=(2,3), low = 0, high =10, dtype = torch.float32)\n",
    "c"
   ]
  },
  {
   "cell_type": "code",
   "execution_count": 25,
   "id": "77096904",
   "metadata": {},
   "outputs": [
    {
     "data": {
      "text/plain": [
       "tensor(25.)"
      ]
     },
     "execution_count": 25,
     "metadata": {},
     "output_type": "execute_result"
    }
   ],
   "source": [
    "#sum\n",
    "torch.sum(c)\n"
   ]
  },
  {
   "cell_type": "code",
   "execution_count": 26,
   "id": "e7995bcd",
   "metadata": {},
   "outputs": [
    {
     "data": {
      "text/plain": [
       "tensor([12.,  9.,  4.])"
      ]
     },
     "execution_count": 26,
     "metadata": {},
     "output_type": "execute_result"
    }
   ],
   "source": [
    "#sum along columns\n",
    "\n",
    "torch.sum(c, dim = 0)"
   ]
  },
  {
   "cell_type": "code",
   "execution_count": 27,
   "id": "894e07d5",
   "metadata": {},
   "outputs": [
    {
     "data": {
      "text/plain": [
       "tensor([20.,  5.])"
      ]
     },
     "execution_count": 27,
     "metadata": {},
     "output_type": "execute_result"
    }
   ],
   "source": [
    "\n",
    "#sum along rows\n",
    "torch.sum(c, dim = 1)\n"
   ]
  },
  {
   "cell_type": "code",
   "execution_count": 28,
   "id": "84125aa0",
   "metadata": {},
   "outputs": [
    {
     "data": {
      "text/plain": [
       "tensor(4.1667)"
      ]
     },
     "execution_count": 28,
     "metadata": {},
     "output_type": "execute_result"
    }
   ],
   "source": [
    "torch.mean(c)"
   ]
  },
  {
   "cell_type": "code",
   "execution_count": 29,
   "id": "4513e5f0",
   "metadata": {},
   "outputs": [
    {
     "data": {
      "text/plain": [
       "tensor([6.0000, 4.5000, 2.0000])"
      ]
     },
     "execution_count": 29,
     "metadata": {},
     "output_type": "execute_result"
    }
   ],
   "source": [
    "torch.mean(c, dim = 0) #column mean"
   ]
  },
  {
   "cell_type": "code",
   "execution_count": 30,
   "id": "0a19d0b9",
   "metadata": {},
   "outputs": [
    {
     "data": {
      "text/plain": [
       "tensor(4.)"
      ]
     },
     "execution_count": 30,
     "metadata": {},
     "output_type": "execute_result"
    }
   ],
   "source": [
    "torch.median(c)"
   ]
  },
  {
   "cell_type": "code",
   "execution_count": 31,
   "id": "239b57e2",
   "metadata": {},
   "outputs": [
    {
     "data": {
      "text/plain": [
       "tensor(0.)"
      ]
     },
     "execution_count": 31,
     "metadata": {},
     "output_type": "execute_result"
    }
   ],
   "source": [
    "torch.max(c)\n",
    "torch.min(c)"
   ]
  },
  {
   "cell_type": "code",
   "execution_count": 32,
   "id": "7a380c12",
   "metadata": {},
   "outputs": [
    {
     "data": {
      "text/plain": [
       "tensor(0.)"
      ]
     },
     "execution_count": 32,
     "metadata": {},
     "output_type": "execute_result"
    }
   ],
   "source": [
    "torch.prod(c)"
   ]
  },
  {
   "cell_type": "code",
   "execution_count": 33,
   "id": "c50c093c",
   "metadata": {},
   "outputs": [
    {
     "data": {
      "text/plain": [
       "tensor(3.3714)"
      ]
     },
     "execution_count": 33,
     "metadata": {},
     "output_type": "execute_result"
    }
   ],
   "source": [
    "torch.std(c) #standard deviation"
   ]
  },
  {
   "cell_type": "code",
   "execution_count": 34,
   "id": "3fd507db",
   "metadata": {},
   "outputs": [
    {
     "data": {
      "text/plain": [
       "tensor(11.3667)"
      ]
     },
     "execution_count": 34,
     "metadata": {},
     "output_type": "execute_result"
    }
   ],
   "source": [
    "torch.var(c) #variance"
   ]
  },
  {
   "cell_type": "code",
   "execution_count": 35,
   "id": "fd4754fe",
   "metadata": {},
   "outputs": [
    {
     "data": {
      "text/plain": [
       "tensor(0)"
      ]
     },
     "execution_count": 35,
     "metadata": {},
     "output_type": "execute_result"
    }
   ],
   "source": [
    "#position of largest element\n",
    "torch.argmax(c)"
   ]
  },
  {
   "cell_type": "code",
   "execution_count": 36,
   "id": "bc0749c0",
   "metadata": {},
   "outputs": [
    {
     "data": {
      "text/plain": [
       "tensor(5)"
      ]
     },
     "execution_count": 36,
     "metadata": {},
     "output_type": "execute_result"
    }
   ],
   "source": [
    "#position of smallest element\n",
    "torch.argmin(c)"
   ]
  },
  {
   "cell_type": "markdown",
   "id": "88aa6c19",
   "metadata": {},
   "source": [
    "## Matrix Operation"
   ]
  },
  {
   "cell_type": "code",
   "execution_count": 37,
   "id": "c1d6d0e4",
   "metadata": {},
   "outputs": [
    {
     "name": "stdout",
     "output_type": "stream",
     "text": [
      "tensor([[4, 3, 8],\n",
      "        [7, 4, 6]])\n",
      "tensor([[0, 1],\n",
      "        [9, 9],\n",
      "        [8, 0]])\n"
     ]
    }
   ],
   "source": [
    "d = torch.randint(size=(2,3), low =0, high =10)\n",
    "e = torch.randint(size=(3,2), low = 0, high = 10)\n",
    "print(d)\n",
    "print(e)"
   ]
  },
  {
   "cell_type": "code",
   "execution_count": 38,
   "id": "c1338591",
   "metadata": {},
   "outputs": [
    {
     "data": {
      "text/plain": [
       "tensor([[91, 31],\n",
       "        [84, 43]])"
      ]
     },
     "execution_count": 38,
     "metadata": {},
     "output_type": "execute_result"
    }
   ],
   "source": [
    "#matrix multiplication \n",
    "torch.matmul(d,e)"
   ]
  },
  {
   "cell_type": "code",
   "execution_count": 39,
   "id": "9605e497",
   "metadata": {},
   "outputs": [
    {
     "data": {
      "text/plain": [
       "tensor(11)"
      ]
     },
     "execution_count": 39,
     "metadata": {},
     "output_type": "execute_result"
    }
   ],
   "source": [
    "vector1 = torch.tensor([1,2])\n",
    "vector2 = torch.tensor([3,4])\n",
    "\n",
    "#dot product\n",
    "torch.dot(vector1, vector2)"
   ]
  },
  {
   "cell_type": "code",
   "execution_count": 40,
   "id": "cb52266f",
   "metadata": {},
   "outputs": [
    {
     "data": {
      "text/plain": [
       "tensor([[4, 7],\n",
       "        [3, 4],\n",
       "        [8, 6]])"
      ]
     },
     "execution_count": 40,
     "metadata": {},
     "output_type": "execute_result"
    }
   ],
   "source": [
    "# transpose\n",
    "torch.transpose(d, 0, 1)"
   ]
  },
  {
   "cell_type": "code",
   "execution_count": 41,
   "id": "47bfa6a4",
   "metadata": {},
   "outputs": [],
   "source": [
    "f = torch.randint(size = (3,3), low = 0, high = 10, dtype = torch.float32)"
   ]
  },
  {
   "cell_type": "code",
   "execution_count": 42,
   "id": "20bc4563",
   "metadata": {},
   "outputs": [
    {
     "data": {
      "text/plain": [
       "tensor(-301.)"
      ]
     },
     "execution_count": 42,
     "metadata": {},
     "output_type": "execute_result"
    }
   ],
   "source": [
    "torch.det(f)"
   ]
  },
  {
   "cell_type": "code",
   "execution_count": 43,
   "id": "d2f65493",
   "metadata": {},
   "outputs": [
    {
     "data": {
      "text/plain": [
       "tensor([[ 0.1429,  0.0000,  0.0000],\n",
       "        [ 0.0498, -0.0930,  0.1628],\n",
       "        [-0.2193,  0.2093, -0.1163]])"
      ]
     },
     "execution_count": 43,
     "metadata": {},
     "output_type": "execute_result"
    }
   ],
   "source": [
    "torch.inverse(f)"
   ]
  },
  {
   "cell_type": "markdown",
   "id": "f7aa2565",
   "metadata": {},
   "source": [
    "## Special functions"
   ]
  },
  {
   "cell_type": "code",
   "execution_count": 44,
   "id": "4fe7c7eb",
   "metadata": {},
   "outputs": [
    {
     "data": {
      "text/plain": [
       "tensor([[0., 5., 7.],\n",
       "        [5., 9., 9.]])"
      ]
     },
     "execution_count": 44,
     "metadata": {},
     "output_type": "execute_result"
    }
   ],
   "source": [
    "g = torch.randint(size = (2,3), low = 0, high = 10, dtype = torch.float32)\n",
    "g"
   ]
  },
  {
   "cell_type": "code",
   "execution_count": 45,
   "id": "576b3c1e",
   "metadata": {},
   "outputs": [
    {
     "data": {
      "text/plain": [
       "tensor([[  -inf, 1.6094, 1.9459],\n",
       "        [1.6094, 2.1972, 2.1972]])"
      ]
     },
     "execution_count": 45,
     "metadata": {},
     "output_type": "execute_result"
    }
   ],
   "source": [
    "#log\n",
    "torch.log(g)"
   ]
  },
  {
   "cell_type": "code",
   "execution_count": 46,
   "id": "49d8ebac",
   "metadata": {},
   "outputs": [
    {
     "data": {
      "text/plain": [
       "tensor([[1.0000e+00, 1.4841e+02, 1.0966e+03],\n",
       "        [1.4841e+02, 8.1031e+03, 8.1031e+03]])"
      ]
     },
     "execution_count": 46,
     "metadata": {},
     "output_type": "execute_result"
    }
   ],
   "source": [
    "#exp\n",
    "torch.exp(g)"
   ]
  },
  {
   "cell_type": "code",
   "execution_count": 47,
   "id": "1e3ae994",
   "metadata": {},
   "outputs": [
    {
     "data": {
      "text/plain": [
       "tensor([[0.0000, 2.2361, 2.6458],\n",
       "        [2.2361, 3.0000, 3.0000]])"
      ]
     },
     "execution_count": 47,
     "metadata": {},
     "output_type": "execute_result"
    }
   ],
   "source": [
    "#sqrt\n",
    "torch.sqrt(g)"
   ]
  },
  {
   "cell_type": "code",
   "execution_count": 48,
   "id": "68700251",
   "metadata": {},
   "outputs": [
    {
     "data": {
      "text/plain": [
       "tensor([[0.5000, 0.9933, 0.9991],\n",
       "        [0.9933, 0.9999, 0.9999]])"
      ]
     },
     "execution_count": 48,
     "metadata": {},
     "output_type": "execute_result"
    }
   ],
   "source": [
    "#sigmoid\n",
    "torch.sigmoid(g)"
   ]
  },
  {
   "cell_type": "code",
   "execution_count": 49,
   "id": "6a97face",
   "metadata": {},
   "outputs": [
    {
     "data": {
      "text/plain": [
       "tensor([[0.0067, 0.0180, 0.1192],\n",
       "        [0.9933, 0.9820, 0.8808]])"
      ]
     },
     "execution_count": 49,
     "metadata": {},
     "output_type": "execute_result"
    }
   ],
   "source": [
    "#softmax\n",
    "torch.softmax(g, dim = 0)"
   ]
  },
  {
   "cell_type": "code",
   "execution_count": 50,
   "id": "209b0d3c",
   "metadata": {},
   "outputs": [
    {
     "data": {
      "text/plain": [
       "tensor([[0., 5., 7.],\n",
       "        [5., 9., 9.]])"
      ]
     },
     "execution_count": 50,
     "metadata": {},
     "output_type": "execute_result"
    }
   ],
   "source": [
    "#relu\n",
    "torch.relu(g)"
   ]
  },
  {
   "cell_type": "markdown",
   "id": "c1098b3c",
   "metadata": {},
   "source": [
    "## INPLACE OPERATIONS\n",
    "Inplace operation is an operation that modifies a tensor's data directly in its memory, rather than creating a new tensor with the modified data.\n",
    "In-place operations are usually indicated by a trailing underscore (_) in the method name, e.g., add_() or mul_().\n"
   ]
  },
  {
   "cell_type": "code",
   "execution_count": 51,
   "id": "e7987ead",
   "metadata": {},
   "outputs": [
    {
     "name": "stdout",
     "output_type": "stream",
     "text": [
      "tensor([[0.5261, 0.0447, 0.5123],\n",
      "        [0.9051, 0.5989, 0.4450]])\n",
      "tensor([[0.7278, 0.4563, 0.3389],\n",
      "        [0.6211, 0.5530, 0.6896]])\n"
     ]
    }
   ],
   "source": [
    "m = torch.rand(2,3)\n",
    "n = torch.rand(2,3)\n",
    "\n",
    "print(m)\n",
    "print(n)"
   ]
  },
  {
   "cell_type": "code",
   "execution_count": 52,
   "id": "0864276a",
   "metadata": {},
   "outputs": [
    {
     "data": {
      "text/plain": [
       "tensor([[1.2539, 0.5009, 0.8512],\n",
       "        [1.5262, 1.1519, 1.1346]])"
      ]
     },
     "execution_count": 52,
     "metadata": {},
     "output_type": "execute_result"
    }
   ],
   "source": [
    "m + n # this is problematic coz it stores this in completely new tensor"
   ]
  },
  {
   "cell_type": "code",
   "execution_count": 55,
   "id": "c5345630",
   "metadata": {},
   "outputs": [
    {
     "data": {
      "text/plain": [
       "tensor([[2.7096, 1.4134, 1.5289],\n",
       "        [2.7685, 2.2579, 2.5138]])"
      ]
     },
     "execution_count": 55,
     "metadata": {},
     "output_type": "execute_result"
    }
   ],
   "source": [
    " m.add_(n)\n",
    "    #this will store the result in m . "
   ]
  },
  {
   "cell_type": "code",
   "execution_count": 56,
   "id": "511737d4",
   "metadata": {},
   "outputs": [
    {
     "data": {
      "text/plain": [
       "tensor([[2.7096, 1.4134, 1.5289],\n",
       "        [2.7685, 2.2579, 2.5138]])"
      ]
     },
     "execution_count": 56,
     "metadata": {},
     "output_type": "execute_result"
    }
   ],
   "source": [
    "torch.relu(m)"
   ]
  },
  {
   "cell_type": "code",
   "execution_count": 59,
   "id": "44ef982d",
   "metadata": {},
   "outputs": [
    {
     "data": {
      "text/plain": [
       "tensor([[2.7096, 1.4134, 1.5289],\n",
       "        [2.7685, 2.2579, 2.5138]])"
      ]
     },
     "execution_count": 59,
     "metadata": {},
     "output_type": "execute_result"
    }
   ],
   "source": [
    "m.relu_() ## _ underscore represents inplace operation"
   ]
  },
  {
   "cell_type": "code",
   "execution_count": 60,
   "id": "e2673b79",
   "metadata": {},
   "outputs": [
    {
     "data": {
      "text/plain": [
       "tensor([[2.7096, 1.4134, 1.5289],\n",
       "        [2.7685, 2.2579, 2.5138]])"
      ]
     },
     "execution_count": 60,
     "metadata": {},
     "output_type": "execute_result"
    }
   ],
   "source": [
    "m"
   ]
  },
  {
   "cell_type": "markdown",
   "id": "a3eba206",
   "metadata": {},
   "source": [
    "### Copying a Tensor"
   ]
  },
  {
   "cell_type": "code",
   "execution_count": 62,
   "id": "fb6b5a02",
   "metadata": {},
   "outputs": [
    {
     "data": {
      "text/plain": [
       "tensor([[0.3687, 0.9053, 0.8356],\n",
       "        [0.3039, 0.6726, 0.5740]])"
      ]
     },
     "execution_count": 62,
     "metadata": {},
     "output_type": "execute_result"
    }
   ],
   "source": [
    "a = torch.rand(2,3)\n",
    "a"
   ]
  },
  {
   "cell_type": "code",
   "execution_count": 65,
   "id": "40211ef6",
   "metadata": {},
   "outputs": [],
   "source": [
    "b = a # makes copy but changes in a also happens in b"
   ]
  },
  {
   "cell_type": "code",
   "execution_count": 64,
   "id": "c05f6d2a",
   "metadata": {},
   "outputs": [
    {
     "data": {
      "text/plain": [
       "tensor([[0.3687, 0.9053, 0.8356],\n",
       "        [0.3039, 0.6726, 0.5740]])"
      ]
     },
     "execution_count": 64,
     "metadata": {},
     "output_type": "execute_result"
    }
   ],
   "source": [
    "b"
   ]
  },
  {
   "cell_type": "code",
   "execution_count": 66,
   "id": "f69e0880",
   "metadata": {},
   "outputs": [
    {
     "data": {
      "text/plain": [
       "129647540558960"
      ]
     },
     "execution_count": 66,
     "metadata": {},
     "output_type": "execute_result"
    }
   ],
   "source": [
    "id(a)"
   ]
  },
  {
   "cell_type": "code",
   "execution_count": 67,
   "id": "7b99b453",
   "metadata": {},
   "outputs": [
    {
     "data": {
      "text/plain": [
       "129647540558960"
      ]
     },
     "execution_count": 67,
     "metadata": {},
     "output_type": "execute_result"
    }
   ],
   "source": [
    "id(b)"
   ]
  },
  {
   "cell_type": "code",
   "execution_count": 71,
   "id": "8da01dbd",
   "metadata": {},
   "outputs": [],
   "source": [
    "# Desirable solution == Use clone\n",
    "\n",
    "b = a.clone()"
   ]
  },
  {
   "cell_type": "code",
   "execution_count": 72,
   "id": "127112b4",
   "metadata": {},
   "outputs": [
    {
     "data": {
      "text/plain": [
       "tensor([[0.3687, 0.9053, 0.8356],\n",
       "        [0.3039, 0.6726, 0.5740]])"
      ]
     },
     "execution_count": 72,
     "metadata": {},
     "output_type": "execute_result"
    }
   ],
   "source": [
    "a"
   ]
  },
  {
   "cell_type": "code",
   "execution_count": 73,
   "id": "cdeddbc4",
   "metadata": {},
   "outputs": [
    {
     "data": {
      "text/plain": [
       "tensor([[0.3687, 0.9053, 0.8356],\n",
       "        [0.3039, 0.6726, 0.5740]])"
      ]
     },
     "execution_count": 73,
     "metadata": {},
     "output_type": "execute_result"
    }
   ],
   "source": [
    "b"
   ]
  },
  {
   "cell_type": "code",
   "execution_count": 75,
   "id": "2869aef9",
   "metadata": {},
   "outputs": [
    {
     "data": {
      "text/plain": [
       "tensor([[ 0.3687, 20.0000,  0.8356],\n",
       "        [ 0.3039,  0.6726,  0.5740]])"
      ]
     },
     "execution_count": 75,
     "metadata": {},
     "output_type": "execute_result"
    }
   ],
   "source": [
    "a[0][1] = 20\n",
    "a"
   ]
  },
  {
   "cell_type": "code",
   "execution_count": 77,
   "id": "91bf8470",
   "metadata": {},
   "outputs": [
    {
     "data": {
      "text/plain": [
       "tensor([[0.3687, 0.9053, 0.8356],\n",
       "        [0.3039, 0.6726, 0.5740]])"
      ]
     },
     "execution_count": 77,
     "metadata": {},
     "output_type": "execute_result"
    }
   ],
   "source": [
    "b #here b doesnot change "
   ]
  },
  {
   "cell_type": "code",
   "execution_count": 78,
   "id": "8e849b58",
   "metadata": {},
   "outputs": [
    {
     "data": {
      "text/plain": [
       "129647540558960"
      ]
     },
     "execution_count": 78,
     "metadata": {},
     "output_type": "execute_result"
    }
   ],
   "source": [
    "#id is also different\n",
    "id(a)"
   ]
  },
  {
   "cell_type": "code",
   "execution_count": 79,
   "id": "43bd5018",
   "metadata": {},
   "outputs": [
    {
     "data": {
      "text/plain": [
       "129647540561120"
      ]
     },
     "execution_count": 79,
     "metadata": {},
     "output_type": "execute_result"
    }
   ],
   "source": [
    "id(b)"
   ]
  },
  {
   "cell_type": "code",
   "execution_count": null,
   "id": "3151d4ae",
   "metadata": {},
   "outputs": [],
   "source": []
  }
 ],
 "metadata": {
  "kernelspec": {
   "display_name": "Pytorch Env",
   "language": "python",
   "name": "pytorch_env"
  },
  "language_info": {
   "codemirror_mode": {
    "name": "ipython",
    "version": 3
   },
   "file_extension": ".py",
   "mimetype": "text/x-python",
   "name": "python",
   "nbconvert_exporter": "python",
   "pygments_lexer": "ipython3",
   "version": "3.12.3"
  }
 },
 "nbformat": 4,
 "nbformat_minor": 5
}
