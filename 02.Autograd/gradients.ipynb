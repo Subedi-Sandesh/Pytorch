{
 "cells": [
  {
   "cell_type": "markdown",
   "id": "b1a0d436",
   "metadata": {},
   "source": [
    "## Autograd\n",
    "Autograd is a core component of pytorch that provides automatic differentiation for tensor operations.It enables gradient computation, which is essential for training machine learning models using optimization algorithms like gradient descent."
   ]
  },
  {
   "cell_type": "code",
   "execution_count": 32,
   "id": "cee4ac07",
   "metadata": {},
   "outputs": [],
   "source": [
    "#1st way to calculate gradient: simple case.\n",
    "#let say y = x^2 so to calculate dy_dx..\n",
    "\n",
    "def dy_dx(x):\n",
    "    return 2*x\n"
   ]
  },
  {
   "cell_type": "code",
   "execution_count": 33,
   "id": "ffb694a4",
   "metadata": {},
   "outputs": [
    {
     "data": {
      "text/plain": [
       "6"
      ]
     },
     "execution_count": 33,
     "metadata": {},
     "output_type": "execute_result"
    }
   ],
   "source": [
    "dy_dx(3)"
   ]
  },
  {
   "cell_type": "code",
   "execution_count": 34,
   "id": "5f606bf6",
   "metadata": {},
   "outputs": [],
   "source": [
    "#2nd way to calculate gradient: \n",
    "#let say y = x^2 and z = siny so to calculate dz_dx ,we have to use chain rule\n",
    "import math\n",
    "def dz_dx(x):\n",
    "    return 2*x*math.cos(x**2)"
   ]
  },
  {
   "cell_type": "code",
   "execution_count": 35,
   "id": "3d2bad86",
   "metadata": {},
   "outputs": [
    {
     "data": {
      "text/plain": [
       "-2.6145744834544478"
      ]
     },
     "execution_count": 35,
     "metadata": {},
     "output_type": "execute_result"
    }
   ],
   "source": [
    "dz_dx(2)"
   ]
  },
  {
   "cell_type": "markdown",
   "id": "e16aa5a3",
   "metadata": {},
   "source": [
    "Both the ways willnot work efficiently while working in training process"
   ]
  },
  {
   "cell_type": "code",
   "execution_count": 36,
   "id": "a33048fb",
   "metadata": {},
   "outputs": [],
   "source": [
    "import torch"
   ]
  },
  {
   "cell_type": "code",
   "execution_count": 37,
   "id": "ac79c550",
   "metadata": {},
   "outputs": [],
   "source": [
    "x = torch.tensor(3.0, requires_grad = True)"
   ]
  },
  {
   "cell_type": "code",
   "execution_count": 38,
   "id": "2b690e35",
   "metadata": {},
   "outputs": [],
   "source": [
    " y = x**2 + 4"
   ]
  },
  {
   "cell_type": "code",
   "execution_count": 39,
   "id": "127ff4f5",
   "metadata": {},
   "outputs": [
    {
     "name": "stdout",
     "output_type": "stream",
     "text": [
      "tensor(3., requires_grad=True)\n",
      "tensor(13., grad_fn=<AddBackward0>)\n"
     ]
    }
   ],
   "source": [
    "print(x)\n",
    "print(y)"
   ]
  },
  {
   "cell_type": "code",
   "execution_count": 40,
   "id": "9ffe2e56",
   "metadata": {},
   "outputs": [],
   "source": [
    "y.backward()"
   ]
  },
  {
   "cell_type": "code",
   "execution_count": 41,
   "id": "08482cbc",
   "metadata": {},
   "outputs": [
    {
     "name": "stdout",
     "output_type": "stream",
     "text": [
      "Gradient: x tensor(6.)\n"
     ]
    }
   ],
   "source": [
    "print(\"Gradient: x\", x.grad) #x.grad gives gradient of y  wrt x"
   ]
  },
  {
   "cell_type": "code",
   "execution_count": 42,
   "id": "8f816ecb",
   "metadata": {},
   "outputs": [],
   "source": [
    "#Example 2\n",
    "\n",
    "\n",
    "x = torch.tensor(3.0)\n",
    "y = torch.tensor(7.0)"
   ]
  },
  {
   "cell_type": "code",
   "execution_count": 43,
   "id": "04ccba41",
   "metadata": {},
   "outputs": [
    {
     "data": {
      "text/plain": [
       "tensor(7., requires_grad=True)"
      ]
     },
     "execution_count": 43,
     "metadata": {},
     "output_type": "execute_result"
    }
   ],
   "source": [
    "#if you forgot to make grad true you can make using inplace operation\n",
    "x.requires_grad_(True)\n",
    "y.requires_grad_(True)"
   ]
  },
  {
   "cell_type": "code",
   "execution_count": 44,
   "id": "17594039",
   "metadata": {},
   "outputs": [],
   "source": [
    "z = x**y"
   ]
  },
  {
   "cell_type": "code",
   "execution_count": 45,
   "id": "2697bb4a",
   "metadata": {},
   "outputs": [],
   "source": [
    "z.backward()"
   ]
  },
  {
   "cell_type": "code",
   "execution_count": 46,
   "id": "661ad00d",
   "metadata": {},
   "outputs": [
    {
     "name": "stdout",
     "output_type": "stream",
     "text": [
      "Gradient: x tensor(5103.)\n",
      "Gradient: y tensor(2402.6650)\n"
     ]
    }
   ],
   "source": [
    "print(\"Gradient: x\", x.grad)\n",
    "print(\"Gradient: y\", y.grad)"
   ]
  },
  {
   "cell_type": "code",
   "execution_count": 47,
   "id": "d60205b2",
   "metadata": {},
   "outputs": [],
   "source": [
    "# Example 3: y = mx + b"
   ]
  },
  {
   "cell_type": "code",
   "execution_count": 48,
   "id": "2cb537d0",
   "metadata": {},
   "outputs": [],
   "source": [
    "m = torch.tensor(2.0,requires_grad = True)\n",
    "x = torch.tensor(4.0, requires_grad = True)\n",
    "b = torch.tensor(7.0, requires_grad = True)\n",
    " "
   ]
  },
  {
   "cell_type": "code",
   "execution_count": 49,
   "id": "a63194d8",
   "metadata": {},
   "outputs": [],
   "source": [
    "x = x.detach()"
   ]
  },
  {
   "cell_type": "code",
   "execution_count": 50,
   "id": "c30e20d1",
   "metadata": {},
   "outputs": [],
   "source": [
    "y = m *x + b"
   ]
  },
  {
   "cell_type": "code",
   "execution_count": 51,
   "id": "42055c2d",
   "metadata": {},
   "outputs": [],
   "source": [
    "y.backward() #to calculate the gradient y w.r.t sth.grad"
   ]
  },
  {
   "cell_type": "code",
   "execution_count": 53,
   "id": "aa5a5665",
   "metadata": {},
   "outputs": [
    {
     "name": "stdout",
     "output_type": "stream",
     "text": [
      "Gradient: m tensor(4.)\n",
      "Gradient: x None\n",
      "Gradient: b tensor(1.)\n"
     ]
    }
   ],
   "source": [
    "print(\"Gradient: m\", m.grad)\n",
    "print(\"Gradient: x\", x.grad)\n",
    "print(\"Gradient: b\", b.grad)"
   ]
  },
  {
   "cell_type": "code",
   "execution_count": null,
   "id": "15adefab",
   "metadata": {},
   "outputs": [],
   "source": []
  },
  {
   "cell_type": "code",
   "execution_count": null,
   "id": "106c6b71",
   "metadata": {},
   "outputs": [],
   "source": []
  }
 ],
 "metadata": {
  "kernelspec": {
   "display_name": "Pytorch Env",
   "language": "python",
   "name": "pytorch_env"
  },
  "language_info": {
   "codemirror_mode": {
    "name": "ipython",
    "version": 3
   },
   "file_extension": ".py",
   "mimetype": "text/x-python",
   "name": "python",
   "nbconvert_exporter": "python",
   "pygments_lexer": "ipython3",
   "version": "3.12.3"
  }
 },
 "nbformat": 4,
 "nbformat_minor": 5
}
